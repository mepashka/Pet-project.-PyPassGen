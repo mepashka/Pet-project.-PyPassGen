{
 "cells": [
  {
   "cell_type": "markdown",
   "id": "18847a32",
   "metadata": {
    "toc": true
   },
   "source": [
    "<h1>Table of Contents<span class=\"tocSkip\"></span></h1>\n",
    "<div class=\"toc\"><ul class=\"toc-item\"></ul></div>"
   ]
  },
  {
   "cell_type": "code",
   "execution_count": 2,
   "id": "9a005080",
   "metadata": {},
   "outputs": [
    {
     "name": "stdout",
     "output_type": "stream",
     "text": [
      "Введите желаемую длину пароля: 12\n",
      "Сгенерированный пароль: 8gZ5BA4!7R#@\n"
     ]
    }
   ],
   "source": [
    "import random\n",
    "\n",
    "def generate_password(length):\n",
    "    lowercase_letters = 'abcdefghijklmnopqrstuvwxyz'\n",
    "    uppercase_letters = 'ABCDEFGHIJKLMNOPQRSTUVWXYZ'\n",
    "    digits = '0123456789'\n",
    "    special_characters = '!@#$%^&*'\n",
    "\n",
    "    # Комбинируем все символы\n",
    "    all_characters = lowercase_letters + uppercase_letters + digits + special_characters\n",
    "\n",
    "    password = ''\n",
    "    for _ in range(length):\n",
    "        character = random.choice(all_characters)\n",
    "        password += character\n",
    "\n",
    "    return password\n",
    "\n",
    "# Запросить у пользователя желаемую длину пароля\n",
    "length = int(input('Введите желаемую длину пароля: '))\n",
    "\n",
    "# Генерируем пароль с указанной длиной\n",
    "password = generate_password(length)\n",
    "print('Сгенерированный пароль:', password)"
   ]
  },
  {
   "cell_type": "code",
   "execution_count": null,
   "id": "ee373155",
   "metadata": {},
   "outputs": [],
   "source": []
  }
 ],
 "metadata": {
  "kernelspec": {
   "display_name": "Python 3 (ipykernel)",
   "language": "python",
   "name": "python3"
  },
  "language_info": {
   "codemirror_mode": {
    "name": "ipython",
    "version": 3
   },
   "file_extension": ".py",
   "mimetype": "text/x-python",
   "name": "python",
   "nbconvert_exporter": "python",
   "pygments_lexer": "ipython3",
   "version": "3.9.13"
  },
  "toc": {
   "base_numbering": 1,
   "nav_menu": {},
   "number_sections": true,
   "sideBar": true,
   "skip_h1_title": true,
   "title_cell": "Table of Contents",
   "title_sidebar": "Contents",
   "toc_cell": true,
   "toc_position": {},
   "toc_section_display": true,
   "toc_window_display": false
  }
 },
 "nbformat": 4,
 "nbformat_minor": 5
}
